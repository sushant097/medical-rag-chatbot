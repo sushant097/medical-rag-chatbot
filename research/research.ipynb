{
 "cells": [
  {
   "cell_type": "markdown",
   "id": "18322dac",
   "metadata": {},
   "source": [
    "# Research Notebook\n",
    "\n",
    "Steps :\n",
    "1. Load data - Encylopedia of Disease Book pdf in `../data/EMD.pdf`.\n",
    "2. \n",
    "3. \n",
    "4. "
   ]
  },
  {
   "cell_type": "markdown",
   "id": "08d1dea5",
   "metadata": {},
   "source": [
    "## Step 1: Read book pdf and extract text"
   ]
  },
  {
   "cell_type": "code",
   "execution_count": 2,
   "id": "b321f591",
   "metadata": {},
   "outputs": [],
   "source": [
    "from langchain.document_loaders import PyPDFLoader, DirectoryLoader\n",
    "from langchain.text_splitter import RecursiveCharacterTextSplitter"
   ]
  },
  {
   "cell_type": "code",
   "execution_count": 3,
   "id": "d9a0e706",
   "metadata": {},
   "outputs": [],
   "source": [
    "# Extract text from PDF files\n",
    "def load_pdfs_from_directory(directory_path):\n",
    "    loader = DirectoryLoader(directory_path, glob=\"*.pdf\", loader_cls=PyPDFLoader)\n",
    "    documents = loader.load()\n",
    "    return documents"
   ]
  },
  {
   "cell_type": "code",
   "execution_count": 9,
   "id": "45d13c0a",
   "metadata": {},
   "outputs": [
    {
     "name": "stdout",
     "output_type": "stream",
     "text": [
      "Number of documents loaded: 787\n",
      "page_content='COLOR PLATES\n",
      "Fig. 32.6. “Urban pixels” distribution and the number of epidem-\n",
      "ic months among the 103 sub districts (199 7–1998 Dengue out-\n",
      "break, Nakhon Pathom Province,Thailand). See text for full caption.\n",
      "Fig. 32.7. Pig farm study site (obtained by Google° Earth). See text for\n",
      "full caption.\n",
      "Fig. 32.10. Breeding site dynamics of Rift Valley Fever vectors: evolution of cumulative rainfall and\n",
      "abundance variations of A. v . arabiensisand C. poicilipes females. See text for full caption.' metadata={'producer': 'Acrobat Distiller 11.0 (Windows)', 'creator': 'PScript5.dll Version 5.2.2', 'creationdate': '2018-10-17T11:50:32+02:00', 'author': 'Tibayrenc, Michel , ed.,', 'keywords': 'AFRIQUE / MALADIE; INFECTION; EPIDEMIOLOGIE; EMERGENCE; SIDA; AGENT PATHOGENE; PHYLOGENIE; BIOLOGIE MOLECULAIRE; IMMUNOLOGIE; ANTIGENE; LEISHMANIOSE; MALADIE DES PLANTES; PALUDISME; PARASITE; HISTOIRE; VACCINATION; ECOLOGIE; VIRUS; HOTE', 'moddate': '2018-10-17T16:29:56+02:00', 'subject': '2007, 050EPID', 'title': 'Encyclopedia of infectious diseases : modern methodologies', 'source': '../data/EMD.pdf', 'total_pages': 787, 'page': 50, 'page_label': '51'}\n"
     ]
    }
   ],
   "source": [
    "extracted_docs = load_pdfs_from_directory(\"../data\")\n",
    "print(f\"Number of documents loaded: {len(extracted_docs)}\")\n",
    "print(extracted_docs[50])  # Print the first document to verify"
   ]
  },
  {
   "cell_type": "markdown",
   "id": "87e8c83b",
   "metadata": {},
   "source": [
    "### Split into smaller chunks"
   ]
  },
  {
   "cell_type": "code",
   "execution_count": 33,
   "id": "e0522ab6",
   "metadata": {},
   "outputs": [],
   "source": [
    "# Split documents into smaller chunks\n",
    "def split_documents(documents, chunk_size=500, chunk_overlap=50):\n",
    "    text_splitter = RecursiveCharacterTextSplitter(\n",
    "        chunk_size=chunk_size,\n",
    "        chunk_overlap=chunk_overlap,\n",
    "        length_function=len,\n",
    "    )\n",
    "    text_chunks = text_splitter.split_documents(documents)\n",
    "    return text_chunks"
   ]
  },
  {
   "cell_type": "code",
   "execution_count": 34,
   "id": "10c863f3",
   "metadata": {},
   "outputs": [
    {
     "name": "stdout",
     "output_type": "stream",
     "text": [
      "Number of text chunks created: 8251\n"
     ]
    }
   ],
   "source": [
    "text_chunks = split_documents(extracted_docs)\n",
    "print(f\"Number of text chunks created: {len(text_chunks)}\")"
   ]
  },
  {
   "cell_type": "markdown",
   "id": "d98883bc",
   "metadata": {},
   "source": [
    "## Step 2: Get the Embeddings of text"
   ]
  },
  {
   "cell_type": "code",
   "execution_count": 35,
   "id": "b770f823",
   "metadata": {},
   "outputs": [
    {
     "name": "stdout",
     "output_type": "stream",
     "text": [
      "Embeddings model downloaded successfully.\n"
     ]
    }
   ],
   "source": [
    "from langchain.embeddings import HuggingFaceEmbeddings\n",
    "\n",
    "def download_embeddings(model_name=\"sentence-transformers/all-MiniLM-L6-v2\"):\n",
    "    \"\"\"Download and return HuggingFace embeddings model.\"\"\"\n",
    "    embeddings = HuggingFaceEmbeddings(model_name=model_name)\n",
    "    return embeddings\n",
    "\n",
    "embeddings = download_embeddings()\n",
    "print(\"Embeddings model downloaded successfully.\")"
   ]
  },
  {
   "cell_type": "code",
   "execution_count": 36,
   "id": "d83c5837",
   "metadata": {},
   "outputs": [
    {
     "name": "stdout",
     "output_type": "stream",
     "text": [
      "client=SentenceTransformer(\n",
      "  (0): Transformer({'max_seq_length': 256, 'do_lower_case': False}) with Transformer model: BertModel \n",
      "  (1): Pooling({'word_embedding_dimension': 384, 'pooling_mode_cls_token': False, 'pooling_mode_mean_tokens': True, 'pooling_mode_max_tokens': False, 'pooling_mode_mean_sqrt_len_tokens': False, 'pooling_mode_weightedmean_tokens': False, 'pooling_mode_lasttoken': False, 'include_prompt': True})\n",
      "  (2): Normalize()\n",
      ") model_name='sentence-transformers/all-MiniLM-L6-v2' cache_folder=None model_kwargs={} encode_kwargs={} multi_process=False show_progress=False\n",
      "384\n"
     ]
    }
   ],
   "source": [
    "print(embeddings)\n",
    "print(len(embeddings.embed_query(\"Disease\")))  # Example usage"
   ]
  },
  {
   "cell_type": "markdown",
   "id": "5923218d",
   "metadata": {},
   "source": [
    "### Get env keys"
   ]
  },
  {
   "cell_type": "code",
   "execution_count": 13,
   "id": "e2e1ad96",
   "metadata": {},
   "outputs": [
    {
     "data": {
      "text/plain": [
       "True"
      ]
     },
     "execution_count": 13,
     "metadata": {},
     "output_type": "execute_result"
    }
   ],
   "source": [
    "from dotenv import load_dotenv\n",
    "import os\n",
    "load_dotenv()"
   ]
  },
  {
   "cell_type": "code",
   "execution_count": 14,
   "id": "2a74ccd3",
   "metadata": {},
   "outputs": [],
   "source": [
    "PINECONE_API_KEY = os.getenv(\"PINECONE_API_KEY\")\n",
    "OPENAI_API_KEY = os.getenv(\"OPENAI_API_KEY\")\n",
    "\n",
    "\n",
    "os.environ[\"PINECONE_API_KEY\"] = PINECONE_API_KEY\n",
    "os.environ[\"OPENAI_API_KEY\"] = OPENAI_API_KEY"
   ]
  },
  {
   "cell_type": "markdown",
   "id": "42196229",
   "metadata": {},
   "source": [
    "### Setup Pinecone and create index"
   ]
  },
  {
   "cell_type": "code",
   "execution_count": 16,
   "id": "e91fcbb0",
   "metadata": {},
   "outputs": [
    {
     "data": {
      "text/plain": [
       "<pinecone.pinecone.Pinecone at 0x147e1fb10>"
      ]
     },
     "execution_count": 16,
     "metadata": {},
     "output_type": "execute_result"
    }
   ],
   "source": [
    "from pinecone import Pinecone \n",
    "pinecone_api_key = PINECONE_API_KEY\n",
    "\n",
    "pc = Pinecone(api_key=pinecone_api_key)\n",
    "pc"
   ]
  },
  {
   "cell_type": "code",
   "execution_count": 37,
   "id": "a507650b",
   "metadata": {},
   "outputs": [
    {
     "data": {
      "text/plain": [
       "<pinecone.db_data.index.Index at 0x3269d3550>"
      ]
     },
     "execution_count": 37,
     "metadata": {},
     "output_type": "execute_result"
    }
   ],
   "source": [
    "from pinecone import ServerlessSpec\n",
    "\n",
    "index_name = \"medical-research\"\n",
    "\n",
    "if not pc.has_index(index_name):\n",
    "    pc.create_index(\n",
    "        name=index_name,\n",
    "        dimension=384,  # Dimension should match the embedding size\n",
    "        metric=\"cosine\",\n",
    "        spec=ServerlessSpec(cloud=\"aws\", region=\"us-east-1\")\n",
    "    )\n",
    "\n",
    "index = pc.Index(index_name)\n",
    "index"
   ]
  },
  {
   "cell_type": "code",
   "execution_count": 38,
   "id": "df1ecfe7",
   "metadata": {},
   "outputs": [],
   "source": [
    "from langchain_pinecone import PineconeVectorStore\n",
    "\n",
    "docsearch = PineconeVectorStore.from_documents(\n",
    "    documents=text_chunks,\n",
    "    embedding=embeddings,\n",
    "    index_name=index_name,\n",
    ")"
   ]
  },
  {
   "cell_type": "code",
   "execution_count": 39,
   "id": "2a71ba1b",
   "metadata": {},
   "outputs": [],
   "source": [
    "# load existing index\n",
    "from langchain_pinecone import PineconeVectorStore\n",
    "# Embed each chunk and add to Pinecone index\n",
    "docsearch = PineconeVectorStore.from_existing_index(\n",
    "    embedding=embeddings,\n",
    "    index_name=index_name,\n",
    ")"
   ]
  },
  {
   "cell_type": "markdown",
   "id": "99da90ae",
   "metadata": {},
   "source": [
    "## Setup Retriever"
   ]
  },
  {
   "cell_type": "code",
   "execution_count": 42,
   "id": "b07b9c2b",
   "metadata": {},
   "outputs": [
    {
     "name": "stdout",
     "output_type": "stream",
     "text": [
      "tags=['PineconeVectorStore', 'HuggingFaceEmbeddings'] vectorstore=<langchain_pinecone.vectorstores.PineconeVectorStore object at 0x10e137910> search_kwargs={'k': 3}\n"
     ]
    }
   ],
   "source": [
    "retriever = docsearch.as_retriever(search_type=\"similarity\", search_kwargs={\"k\": 3})\n",
    "print(retriever)  # Verify the retriever object"
   ]
  },
  {
   "cell_type": "code",
   "execution_count": 50,
   "id": "c99bbc04",
   "metadata": {},
   "outputs": [
    {
     "data": {
      "text/plain": [
       "[Document(id='11919bb3-ce02-474c-9c29-c3d573b48d42', metadata={'author': 'Tibayrenc, Michel , ed.,', 'creationdate': '2018-10-17T11:50:32+02:00', 'creator': 'PScript5.dll Version 5.2.2', 'keywords': 'AFRIQUE / MALADIE; INFECTION; EPIDEMIOLOGIE; EMERGENCE; SIDA; AGENT PATHOGENE; PHYLOGENIE; BIOLOGIE MOLECULAIRE; IMMUNOLOGIE; ANTIGENE; LEISHMANIOSE; MALADIE DES PLANTES; PALUDISME; PARASITE; HISTOIRE; VACCINATION; ECOLOGIE; VIRUS; HOTE', 'moddate': '2018-10-17T16:29:56+02:00', 'page': 252.0, 'page_label': '253', 'producer': 'Acrobat Distiller 11.0 (Windows)', 'source': '../data/EMD.pdf', 'subject': '2007, 050EPID', 'title': 'Encyclopedia of infectious diseases : modern methodologies', 'total_pages': 787.0}, page_content='tissues other than those typically infected in birds. Highly\\npathogenic avian inﬂuenza strains can evolve from low-\\npathogenicity strains by a few point mutations in the HA\\ngene; the accumulation of such residues in an evolutionary\\nlineage over time is thus a cause for concern (for reviews see\\n[2,58,124]).\\nDespite the importance of avian influenza to public\\nhealth, the incidence and frequency of disease caused by\\nthe different A subtypes have not been extensively docu-'),\n",
       " Document(id='d4fa35d6-9427-49e0-b885-3c3a4730c16e', metadata={'author': 'Tibayrenc, Michel , ed.,', 'creationdate': '2018-10-17T11:50:32+02:00', 'creator': 'PScript5.dll Version 5.2.2', 'keywords': 'AFRIQUE / MALADIE; INFECTION; EPIDEMIOLOGIE; EMERGENCE; SIDA; AGENT PATHOGENE; PHYLOGENIE; BIOLOGIE MOLECULAIRE; IMMUNOLOGIE; ANTIGENE; LEISHMANIOSE; MALADIE DES PLANTES; PALUDISME; PARASITE; HISTOIRE; VACCINATION; ECOLOGIE; VIRUS; HOTE', 'moddate': '2018-10-17T16:29:56+02:00', 'page': 254.0, 'page_label': '255', 'producer': 'Acrobat Distiller 11.0 (Windows)', 'source': '../data/EMD.pdf', 'subject': '2007, 050EPID', 'title': 'Encyclopedia of infectious diseases : modern methodologies', 'total_pages': 787.0}, page_content='produced a wealth of data for evolutionary analysis.\\nFigure 13.3 shows phylogenies constructed using the HA1\\ndomain of the HA gene of human inﬂuenza A subtypes\\nH3N2 and H1N1 and of inﬂuenza B [12]. The slender\\n“trunk” of the H3 tree in an especially characteristic reﬂection\\nof the serial replacement of strains that results from antigenic\\nCHAPTER 13 INFLUENZA EVOLUTION ◆ 203\\n100\\n90\\n80\\n70\\n60\\n50\\n40\\n30\\n20\\n10\\n0\\n1985-6 1988-9 1990-1 1992-3 1994-5 1996-7\\nA:H1N1\\nA:H3N2\\nB\\n1998-9 2000-1\\nInfluenza Season'),\n",
       " Document(id='9e67c65d-6b87-4948-8a44-7204b3dce738', metadata={'author': 'Tibayrenc, Michel , ed.,', 'creationdate': '2018-10-17T11:50:32+02:00', 'creator': 'PScript5.dll Version 5.2.2', 'keywords': 'AFRIQUE / MALADIE; INFECTION; EPIDEMIOLOGIE; EMERGENCE; SIDA; AGENT PATHOGENE; PHYLOGENIE; BIOLOGIE MOLECULAIRE; IMMUNOLOGIE; ANTIGENE; LEISHMANIOSE; MALADIE DES PLANTES; PALUDISME; PARASITE; HISTOIRE; VACCINATION; ECOLOGIE; VIRUS; HOTE', 'moddate': '2018-10-17T16:29:56+02:00', 'page': 252.0, 'page_label': '253', 'producer': 'Acrobat Distiller 11.0 (Windows)', 'source': '../data/EMD.pdf', 'subject': '2007, 050EPID', 'title': 'Encyclopedia of infectious diseases : modern methodologies', 'total_pages': 787.0}, page_content='mented in wild birds. Stallknecht [122] found influenza A\\nin 90 species representing 12 orders of birds, primarily\\nshorebirds and waterfowl [123]. Studies of Canadian ducks\\n[56] and of ducks and shorebirds in North America [66]\\nshow pronounced geographical and temporal variation in\\nsubtype frequency and overall carriage. Avian infections\\nwere typically asymptomatic, with higher incidence in juve-\\nniles [66].\\nPhylogenetic analysis suggests that both geography and')]"
      ]
     },
     "execution_count": 50,
     "metadata": {},
     "output_type": "execute_result"
    }
   ],
   "source": [
    "retrieved_docs = retriever.invoke(\"What is Influenza?\")\n",
    "retrieved_docs"
   ]
  },
  {
   "cell_type": "code",
   "execution_count": 52,
   "id": "a3631552",
   "metadata": {},
   "outputs": [
    {
     "data": {
      "text/plain": [
       "[Document(id='37cb3226-fe55-4bf2-bcab-be3bc50fb177', metadata={'author': 'Tibayrenc, Michel , ed.,', 'creationdate': '2018-10-17T11:50:32+02:00', 'creator': 'PScript5.dll Version 5.2.2', 'keywords': 'AFRIQUE / MALADIE; INFECTION; EPIDEMIOLOGIE; EMERGENCE; SIDA; AGENT PATHOGENE; PHYLOGENIE; BIOLOGIE MOLECULAIRE; IMMUNOLOGIE; ANTIGENE; LEISHMANIOSE; MALADIE DES PLANTES; PALUDISME; PARASITE; HISTOIRE; VACCINATION; ECOLOGIE; VIRUS; HOTE', 'moddate': '2018-10-17T16:29:56+02:00', 'page': 260.0, 'page_label': '261', 'producer': 'Acrobat Distiller 11.0 (Windows)', 'source': '../data/EMD.pdf', 'subject': '2007, 050EPID', 'title': 'Encyclopedia of infectious diseases : modern methodologies', 'total_pages': 787.0}, page_content='available in the meantime. However, even the NA inhibitors\\nmay only provide short-term protection. Resistance to\\nthese drugs will undoubtedly evolve in due time. The\\ninfluenza virus has already shown us its incredible evolu-\\ntionary flexibility.There is no predicting what it will do in\\nthe future.\\nREFERENCES\\n1. Anderson RM, Fraser C, Ghani AC, et al. Epidemiology, transmis-\\nsion dynamics and control of SARS: the 2002–2003 epidemic.\\nPhilos Trans R Soc Lond Ser B Biol Sci 2004;359:1091–105.'),\n",
       " Document(id='827a59cf-b914-4225-a1f3-9709273cb750', metadata={'author': 'Tibayrenc, Michel , ed.,', 'creationdate': '2018-10-17T11:50:32+02:00', 'creator': 'PScript5.dll Version 5.2.2', 'keywords': 'AFRIQUE / MALADIE; INFECTION; EPIDEMIOLOGIE; EMERGENCE; SIDA; AGENT PATHOGENE; PHYLOGENIE; BIOLOGIE MOLECULAIRE; IMMUNOLOGIE; ANTIGENE; LEISHMANIOSE; MALADIE DES PLANTES; PALUDISME; PARASITE; HISTOIRE; VACCINATION; ECOLOGIE; VIRUS; HOTE', 'moddate': '2018-10-17T16:29:56+02:00', 'page': 608.0, 'page_label': '609', 'producer': 'Acrobat Distiller 11.0 (Windows)', 'source': '../data/EMD.pdf', 'subject': '2007, 050EPID', 'title': 'Encyclopedia of infectious diseases : modern methodologies', 'total_pages': 787.0}, page_content='ative treatments developed for a market of rich countries, in the\\ncontext of tough commercial competition.\\n32.4.1 To Favor Prevention not Treatment\\nThe emerging viral diseases are at the center of the debate on\\nhealth in the developing countries of the often under med-\\nicalized intertropical zone where the epidemic manifestations\\nhave considerable impact on society and sanitary conditions.\\nThe priority of health for the developing countries is to pre-'),\n",
       " Document(id='8bf9b7e9-7667-4e7f-a882-aaadb0a8e7e8', metadata={'author': 'Tibayrenc, Michel , ed.,', 'creationdate': '2018-10-17T11:50:32+02:00', 'creator': 'PScript5.dll Version 5.2.2', 'keywords': 'AFRIQUE / MALADIE; INFECTION; EPIDEMIOLOGIE; EMERGENCE; SIDA; AGENT PATHOGENE; PHYLOGENIE; BIOLOGIE MOLECULAIRE; IMMUNOLOGIE; ANTIGENE; LEISHMANIOSE; MALADIE DES PLANTES; PALUDISME; PARASITE; HISTOIRE; VACCINATION; ECOLOGIE; VIRUS; HOTE', 'moddate': '2018-10-17T16:29:56+02:00', 'page': 697.0, 'page_label': '698', 'producer': 'Acrobat Distiller 11.0 (Windows)', 'source': '../data/EMD.pdf', 'subject': '2007, 050EPID', 'title': 'Encyclopedia of infectious diseases : modern methodologies', 'total_pages': 787.0}, page_content='patient when appropriate antibiotic therapy was prescribed\\naccording to the recommendations of a computer-assisted\\nprogram for antibiotics [5]. The infection control world is\\ndynamic, with new information regarding outbreaks, alerts,\\nmedical products, legislation, public health policies, and\\nbreaking news becoming available every hour.Access to this\\ninformation as well as to regulatory actions, health and safe-\\nty requirements and tools for training are critical in the day-')]"
      ]
     },
     "execution_count": 52,
     "metadata": {},
     "output_type": "execute_result"
    }
   ],
   "source": [
    "retrieved_docs = retriever.invoke(\"What is treatment of Influenza?\")\n",
    "retrieved_docs"
   ]
  },
  {
   "cell_type": "markdown",
   "id": "10807f2f",
   "metadata": {},
   "source": [
    "## Setup OpenAI LLM model"
   ]
  },
  {
   "cell_type": "code",
   "execution_count": 44,
   "id": "1b932ba5",
   "metadata": {},
   "outputs": [],
   "source": [
    "from langchain_openai import ChatOpenAI\n",
    "\n",
    "chatModel = ChatOpenAI(model=\"gpt-4o\")"
   ]
  },
  {
   "cell_type": "code",
   "execution_count": 45,
   "id": "442aa9aa",
   "metadata": {},
   "outputs": [],
   "source": [
    "from langchain.chains import create_retrieval_chain\n",
    "from langchain.chains.combine_documents import create_stuff_documents_chain\n",
    "from langchain_core.prompts import ChatPromptTemplate"
   ]
  },
  {
   "cell_type": "code",
   "execution_count": 46,
   "id": "bf9630f4",
   "metadata": {},
   "outputs": [],
   "source": [
    "system_prompt = (\n",
    "    \"You are an Medical assistant for question-answering tasks. \"\n",
    "    \"Use the following pieces of retrieved context to answer \"\n",
    "    \"the question. If you don't know the answer, say that you \"\n",
    "    \"don't know. Use three sentences maximum and keep the \"\n",
    "    \"answer concise.\"\n",
    "    \"\\n\\n\"\n",
    "    \"{context}\"\n",
    ")\n",
    "\n",
    "\n",
    "prompt = ChatPromptTemplate.from_messages(\n",
    "    [\n",
    "        (\"system\", system_prompt),\n",
    "        (\"human\", \"{input}\"),\n",
    "    ]\n",
    ")"
   ]
  },
  {
   "cell_type": "code",
   "execution_count": 47,
   "id": "c3e1944d",
   "metadata": {},
   "outputs": [],
   "source": [
    "\n",
    "question_answer_chain = create_stuff_documents_chain(chatModel, prompt)\n",
    "rag_chain = create_retrieval_chain(retriever, question_answer_chain)"
   ]
  },
  {
   "cell_type": "code",
   "execution_count": 49,
   "id": "316f2c7b",
   "metadata": {},
   "outputs": [
    {
     "name": "stdout",
     "output_type": "stream",
     "text": [
      "Influenza, commonly known as the flu, is a contagious respiratory illness caused by influenza viruses. It primarily affects the nose, throat, and lungs, leading to symptoms such as fever, cough, sore throat, body aches, and fatigue. Influenza viruses are categorized into types A, B, and C, with types A and B causing seasonal flu epidemics.\n"
     ]
    }
   ],
   "source": [
    "response = rag_chain.invoke({\"input\": \"what is Influenza?\"})\n",
    "print(response[\"answer\"])"
   ]
  },
  {
   "cell_type": "code",
   "execution_count": 54,
   "id": "1df43f40",
   "metadata": {},
   "outputs": [
    {
     "name": "stdout",
     "output_type": "stream",
     "text": [
      "The treatment of influenza primarily includes antiviral medications, like neuraminidase inhibitors (e.g., oseltamivir and zanamivir), which can reduce symptoms and duration if taken early. Treatment also involves supportive care, such as rest, hydration, and over-the-counter medications to alleviate symptoms like fever and aches. Vaccination is a key preventive measure and is prioritized over treatment.\n"
     ]
    }
   ],
   "source": [
    "response = rag_chain.invoke({\"input\": \"what is the treatment of Influenza?\"})\n",
    "print(response[\"answer\"])"
   ]
  },
  {
   "cell_type": "code",
   "execution_count": 55,
   "id": "fce0c9e6",
   "metadata": {},
   "outputs": [
    {
     "name": "stdout",
     "output_type": "stream",
     "text": [
      "I'm sorry, I don't understand your question. Could you please provide more details or clarify what you need assistance with?\n"
     ]
    }
   ],
   "source": [
    "response = rag_chain.invoke({\"input\": \"aadfasdf\"})\n",
    "print(response[\"answer\"])"
   ]
  },
  {
   "cell_type": "code",
   "execution_count": null,
   "id": "8214ce6f",
   "metadata": {},
   "outputs": [],
   "source": []
  }
 ],
 "metadata": {
  "kernelspec": {
   "display_name": "medichatbot",
   "language": "python",
   "name": "python3"
  },
  "language_info": {
   "codemirror_mode": {
    "name": "ipython",
    "version": 3
   },
   "file_extension": ".py",
   "mimetype": "text/x-python",
   "name": "python",
   "nbconvert_exporter": "python",
   "pygments_lexer": "ipython3",
   "version": "3.11.13"
  }
 },
 "nbformat": 4,
 "nbformat_minor": 5
}
